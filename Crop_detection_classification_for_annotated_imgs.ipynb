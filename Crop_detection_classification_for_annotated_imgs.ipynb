{
  "nbformat": 4,
  "nbformat_minor": 0,
  "metadata": {
    "colab": {
      "provenance": [],
      "collapsed_sections": []
    },
    "kernelspec": {
      "name": "python3",
      "display_name": "Python 3"
    },
    "language_info": {
      "name": "python"
    },
    "accelerator": "GPU"
  },
  "cells": [
    {
      "cell_type": "code",
      "source": [
        "## Dependency preparation and Installation"
      ],
      "metadata": {
        "id": "ok-FThZiwlIc"
      },
      "execution_count": null,
      "outputs": []
    },
    {
      "cell_type": "code",
      "execution_count": null,
      "metadata": {
        "colab": {
          "base_uri": "https://localhost:8080/"
        },
        "id": "owwUl7PTr4zj",
        "outputId": "b74d1791-b0ca-4fe4-8ac7-894d051bef51"
      },
      "outputs": [
        {
          "output_type": "stream",
          "name": "stderr",
          "text": [
            "YOLOv5 🚀 v6.2-187-g5ef69ef Python-3.7.14 torch-1.12.1+cu113 CUDA:0 (Tesla T4, 15110MiB)\n"
          ]
        },
        {
          "output_type": "stream",
          "name": "stdout",
          "text": [
            "Setup complete ✅ (2 CPUs, 12.7 GB RAM, 22.8/78.2 GB disk)\n",
            "Mounted at /content/drive\n"
          ]
        }
      ],
      "source": [
        "!git clone https://github.com/ultralytics/yolov5  # clone\n",
        "%cd yolov5\n",
        "%pip install -qr requirements.txt  # install\n",
        "\n",
        "import torch\n",
        "from yolov5 import utils\n",
        "display = utils.notebook_init()  # checks\n",
        "\n",
        "from google.colab import drive\n",
        "drive.mount('/content/drive')"
      ]
    },
    {
      "cell_type": "code",
      "source": [
        "%cd /content/yolov5"
      ],
      "metadata": {
        "colab": {
          "base_uri": "https://localhost:8080/"
        },
        "id": "lGgTfzxdenCm",
        "outputId": "5fe0bc53-1961-41aa-ce3d-82842c94e06d"
      },
      "execution_count": null,
      "outputs": [
        {
          "output_type": "stream",
          "name": "stdout",
          "text": [
            "/content/yolov5\n"
          ]
        }
      ]
    },
    {
      "cell_type": "markdown",
      "source": [
        "## Training Image data for crop detection"
      ],
      "metadata": {
        "id": "SmaoF667wu8y"
      }
    },
    {
      "cell_type": "code",
      "source": [
        "!python train.py --data /content/yolov5/data.yaml --img 224 --batch 16 --epochs 20"
      ],
      "metadata": {
        "colab": {
          "base_uri": "https://localhost:8080/"
        },
        "id": "iokH1QxMlcNO",
        "outputId": "878f39c2-98de-481d-b871-e1988ea91609"
      },
      "execution_count": null,
      "outputs": [
        {
          "output_type": "stream",
          "name": "stdout",
          "text": [
            "\u001b[34m\u001b[1mtrain: \u001b[0mweights=yolov5s.pt, cfg=, data=/content/yolov5/data.yaml, hyp=data/hyps/hyp.scratch-low.yaml, epochs=20, batch_size=16, imgsz=224, rect=False, resume=False, nosave=False, noval=False, noautoanchor=False, noplots=False, evolve=None, bucket=, cache=None, image_weights=False, device=, multi_scale=False, single_cls=False, optimizer=SGD, sync_bn=False, workers=8, project=runs/train, name=exp, exist_ok=False, quad=False, cos_lr=False, label_smoothing=0.0, patience=100, freeze=[0], save_period=-1, seed=0, local_rank=-1, entity=None, upload_dataset=False, bbox_interval=-1, artifact_alias=latest\n",
            "\u001b[34m\u001b[1mgithub: \u001b[0mup to date with https://github.com/ultralytics/yolov5 ✅\n",
            "YOLOv5 🚀 v6.2-187-g5ef69ef Python-3.7.14 torch-1.12.1+cu113 CUDA:0 (Tesla T4, 15110MiB)\n",
            "\n",
            "\u001b[34m\u001b[1mhyperparameters: \u001b[0mlr0=0.01, lrf=0.01, momentum=0.937, weight_decay=0.0005, warmup_epochs=3.0, warmup_momentum=0.8, warmup_bias_lr=0.1, box=0.05, cls=0.5, cls_pw=1.0, obj=1.0, obj_pw=1.0, iou_t=0.2, anchor_t=4.0, fl_gamma=0.0, hsv_h=0.015, hsv_s=0.7, hsv_v=0.4, degrees=0.0, translate=0.1, scale=0.5, shear=0.0, perspective=0.0, flipud=0.0, fliplr=0.5, mosaic=1.0, mixup=0.0, copy_paste=0.0\n",
            "\u001b[34m\u001b[1mWeights & Biases: \u001b[0mrun 'pip install wandb' to automatically track and visualize YOLOv5 🚀 runs in Weights & Biases\n",
            "\u001b[34m\u001b[1mClearML: \u001b[0mrun 'pip install clearml' to automatically track, visualize and remotely train YOLOv5 🚀 in ClearML\n",
            "\u001b[34m\u001b[1mComet: \u001b[0mrun 'pip install comet_ml' to automatically track and visualize YOLOv5 🚀 runs in Comet\n",
            "\u001b[34m\u001b[1mTensorBoard: \u001b[0mStart with 'tensorboard --logdir runs/train', view at http://localhost:6006/\n",
            "Downloading https://github.com/ultralytics/yolov5/releases/download/v6.2/yolov5s.pt to yolov5s.pt...\n",
            "100% 14.1M/14.1M [00:00<00:00, 51.8MB/s]\n",
            "\n",
            "Overriding model.yaml nc=80 with nc=2\n",
            "\n",
            "                 from  n    params  module                                  arguments                     \n",
            "  0                -1  1      3520  models.common.Conv                      [3, 32, 6, 2, 2]              \n",
            "  1                -1  1     18560  models.common.Conv                      [32, 64, 3, 2]                \n",
            "  2                -1  1     18816  models.common.C3                        [64, 64, 1]                   \n",
            "  3                -1  1     73984  models.common.Conv                      [64, 128, 3, 2]               \n",
            "  4                -1  2    115712  models.common.C3                        [128, 128, 2]                 \n",
            "  5                -1  1    295424  models.common.Conv                      [128, 256, 3, 2]              \n",
            "  6                -1  3    625152  models.common.C3                        [256, 256, 3]                 \n",
            "  7                -1  1   1180672  models.common.Conv                      [256, 512, 3, 2]              \n",
            "  8                -1  1   1182720  models.common.C3                        [512, 512, 1]                 \n",
            "  9                -1  1    656896  models.common.SPPF                      [512, 512, 5]                 \n",
            " 10                -1  1    131584  models.common.Conv                      [512, 256, 1, 1]              \n",
            " 11                -1  1         0  torch.nn.modules.upsampling.Upsample    [None, 2, 'nearest']          \n",
            " 12           [-1, 6]  1         0  models.common.Concat                    [1]                           \n",
            " 13                -1  1    361984  models.common.C3                        [512, 256, 1, False]          \n",
            " 14                -1  1     33024  models.common.Conv                      [256, 128, 1, 1]              \n",
            " 15                -1  1         0  torch.nn.modules.upsampling.Upsample    [None, 2, 'nearest']          \n",
            " 16           [-1, 4]  1         0  models.common.Concat                    [1]                           \n",
            " 17                -1  1     90880  models.common.C3                        [256, 128, 1, False]          \n",
            " 18                -1  1    147712  models.common.Conv                      [128, 128, 3, 2]              \n",
            " 19          [-1, 14]  1         0  models.common.Concat                    [1]                           \n",
            " 20                -1  1    296448  models.common.C3                        [256, 256, 1, False]          \n",
            " 21                -1  1    590336  models.common.Conv                      [256, 256, 3, 2]              \n",
            " 22          [-1, 10]  1         0  models.common.Concat                    [1]                           \n",
            " 23                -1  1   1182720  models.common.C3                        [512, 512, 1, False]          \n",
            " 24      [17, 20, 23]  1     18879  models.yolo.Detect                      [2, [[10, 13, 16, 30, 33, 23], [30, 61, 62, 45, 59, 119], [116, 90, 156, 198, 373, 326]], [128, 256, 512]]\n",
            "Model summary: 214 layers, 7025023 parameters, 7025023 gradients, 16.0 GFLOPs\n",
            "\n",
            "Transferred 343/349 items from yolov5s.pt\n",
            "\u001b[34m\u001b[1mAMP: \u001b[0mchecks passed ✅\n",
            "\u001b[34m\u001b[1moptimizer:\u001b[0m SGD(lr=0.01) with parameter groups 57 weight(decay=0.0), 60 weight(decay=0.0005), 60 bias\n",
            "\u001b[34m\u001b[1malbumentations: \u001b[0mBlur(p=0.01, blur_limit=(3, 7)), MedianBlur(p=0.01, blur_limit=(3, 7)), ToGray(p=0.01), CLAHE(p=0.01, clip_limit=(1, 4.0), tile_grid_size=(8, 8))\n",
            "\u001b[34m\u001b[1mtrain: \u001b[0mScanning '/content/drive/MyDrive/computer_vision_exam/already_split/images_yolo_annotated/train/labels' images and labels...4665 found, 0 missing, 0 empty, 0 corrupt: 100% 4665/4665 [14:59<00:00,  5.19it/s]\n",
            "\u001b[34m\u001b[1mtrain: \u001b[0mNew cache created: /content/drive/MyDrive/computer_vision_exam/already_split/images_yolo_annotated/train/labels.cache\n",
            "\u001b[34m\u001b[1mval: \u001b[0mScanning '/content/drive/MyDrive/computer_vision_exam/already_split/images_yolo_annotated/valid/labels' images and labels...181 found, 0 missing, 0 empty, 0 corrupt: 100% 181/181 [00:36<00:00,  4.95it/s]\n",
            "\u001b[34m\u001b[1mval: \u001b[0mNew cache created: /content/drive/MyDrive/computer_vision_exam/already_split/images_yolo_annotated/valid/labels.cache\n",
            "\n",
            "\u001b[34m\u001b[1mAutoAnchor: \u001b[0m5.52 anchors/target, 1.000 Best Possible Recall (BPR). Current anchors are a good fit to dataset ✅\n",
            "Plotting labels to runs/train/exp2/labels.jpg... \n",
            "Image sizes 224 train, 224 val\n",
            "Using 2 dataloader workers\n",
            "Logging results to \u001b[1mruns/train/exp2\u001b[0m\n",
            "Starting training for 20 epochs...\n",
            "\n",
            "      Epoch    GPU_mem   box_loss   obj_loss   cls_loss  Instances       Size\n",
            "       0/19     0.518G    0.08688    0.03904    0.01781         71        224: 100% 292/292 [01:08<00:00,  4.25it/s]\n",
            "                 Class     Images  Instances          P          R      mAP50   mAP50-95: 100% 6/6 [00:02<00:00,  2.17it/s]\n",
            "                   all        181        659      0.454      0.424      0.343      0.156\n",
            "\n",
            "      Epoch    GPU_mem   box_loss   obj_loss   cls_loss  Instances       Size\n",
            "       1/19      0.64G    0.05925    0.03739   0.004626         64        224: 100% 292/292 [01:02<00:00,  4.67it/s]\n",
            "                 Class     Images  Instances          P          R      mAP50   mAP50-95: 100% 6/6 [00:01<00:00,  3.75it/s]\n",
            "                   all        181        659      0.548      0.557      0.525      0.236\n",
            "\n",
            "      Epoch    GPU_mem   box_loss   obj_loss   cls_loss  Instances       Size\n",
            "       2/19      0.64G      0.051    0.03363   0.003342         53        224: 100% 292/292 [01:04<00:00,  4.55it/s]\n",
            "                 Class     Images  Instances          P          R      mAP50   mAP50-95: 100% 6/6 [00:01<00:00,  3.79it/s]\n",
            "                   all        181        659      0.676      0.685      0.675      0.297\n",
            "\n",
            "      Epoch    GPU_mem   box_loss   obj_loss   cls_loss  Instances       Size\n",
            "       3/19      0.64G     0.0441    0.03203   0.002916         50        224: 100% 292/292 [01:02<00:00,  4.70it/s]\n",
            "                 Class     Images  Instances          P          R      mAP50   mAP50-95: 100% 6/6 [00:01<00:00,  4.22it/s]\n",
            "                   all        181        659      0.579      0.615      0.584      0.288\n",
            "\n",
            "      Epoch    GPU_mem   box_loss   obj_loss   cls_loss  Instances       Size\n",
            "       4/19      0.64G    0.03892    0.03153   0.002599         61        224: 100% 292/292 [01:03<00:00,  4.60it/s]\n",
            "                 Class     Images  Instances          P          R      mAP50   mAP50-95: 100% 6/6 [00:01<00:00,  3.99it/s]\n",
            "                   all        181        659      0.724      0.768      0.761       0.36\n",
            "\n",
            "      Epoch    GPU_mem   box_loss   obj_loss   cls_loss  Instances       Size\n",
            "       5/19      0.64G    0.03568    0.03055    0.00233         59        224: 100% 292/292 [01:01<00:00,  4.75it/s]\n",
            "                 Class     Images  Instances          P          R      mAP50   mAP50-95: 100% 6/6 [00:01<00:00,  3.83it/s]\n",
            "                   all        181        659      0.787      0.773      0.797      0.442\n",
            "\n",
            "      Epoch    GPU_mem   box_loss   obj_loss   cls_loss  Instances       Size\n",
            "       6/19      0.64G    0.03391    0.03012   0.002073         74        224: 100% 292/292 [01:01<00:00,  4.72it/s]\n",
            "                 Class     Images  Instances          P          R      mAP50   mAP50-95: 100% 6/6 [00:01<00:00,  4.18it/s]\n",
            "                   all        181        659      0.782      0.815      0.828      0.494\n",
            "\n",
            "      Epoch    GPU_mem   box_loss   obj_loss   cls_loss  Instances       Size\n",
            "       7/19      0.64G    0.03213    0.02922    0.00197         50        224: 100% 292/292 [01:03<00:00,  4.63it/s]\n",
            "                 Class     Images  Instances          P          R      mAP50   mAP50-95: 100% 6/6 [00:01<00:00,  3.85it/s]\n",
            "                   all        181        659      0.711      0.832      0.794      0.456\n",
            "\n",
            "      Epoch    GPU_mem   box_loss   obj_loss   cls_loss  Instances       Size\n",
            "       8/19      0.64G    0.03087    0.02898   0.001797         44        224: 100% 292/292 [01:02<00:00,  4.71it/s]\n",
            "                 Class     Images  Instances          P          R      mAP50   mAP50-95: 100% 6/6 [00:01<00:00,  4.19it/s]\n",
            "                   all        181        659       0.73      0.854      0.827      0.496\n",
            "\n",
            "      Epoch    GPU_mem   box_loss   obj_loss   cls_loss  Instances       Size\n",
            "       9/19      0.64G    0.03006    0.02872   0.001863         47        224: 100% 292/292 [01:01<00:00,  4.73it/s]\n",
            "                 Class     Images  Instances          P          R      mAP50   mAP50-95: 100% 6/6 [00:01<00:00,  3.79it/s]\n",
            "                   all        181        659      0.741      0.832      0.819      0.494\n",
            "\n",
            "      Epoch    GPU_mem   box_loss   obj_loss   cls_loss  Instances       Size\n",
            "      10/19      0.64G    0.02951    0.02849   0.001758         42        224: 100% 292/292 [01:02<00:00,  4.69it/s]\n",
            "                 Class     Images  Instances          P          R      mAP50   mAP50-95: 100% 6/6 [00:01<00:00,  3.99it/s]\n",
            "                   all        181        659      0.766      0.817      0.815      0.515\n",
            "\n",
            "      Epoch    GPU_mem   box_loss   obj_loss   cls_loss  Instances       Size\n",
            "      11/19      0.64G    0.02848    0.02851   0.001727         74        224: 100% 292/292 [01:02<00:00,  4.69it/s]\n",
            "                 Class     Images  Instances          P          R      mAP50   mAP50-95: 100% 6/6 [00:01<00:00,  4.13it/s]\n",
            "                   all        181        659      0.776       0.84       0.83      0.537\n",
            "\n",
            "      Epoch    GPU_mem   box_loss   obj_loss   cls_loss  Instances       Size\n",
            "      12/19      0.64G    0.02799    0.02822   0.001628         42        224: 100% 292/292 [01:02<00:00,  4.64it/s]\n",
            "                 Class     Images  Instances          P          R      mAP50   mAP50-95: 100% 6/6 [00:01<00:00,  3.98it/s]\n",
            "                   all        181        659      0.735      0.859      0.819       0.53\n",
            "\n",
            "      Epoch    GPU_mem   box_loss   obj_loss   cls_loss  Instances       Size\n",
            "      13/19      0.64G     0.0275    0.02819   0.001771         50        224: 100% 292/292 [01:02<00:00,  4.68it/s]\n",
            "                 Class     Images  Instances          P          R      mAP50   mAP50-95: 100% 6/6 [00:01<00:00,  4.07it/s]\n",
            "                   all        181        659       0.74      0.874      0.836      0.554\n",
            "\n",
            "      Epoch    GPU_mem   box_loss   obj_loss   cls_loss  Instances       Size\n",
            "      14/19      0.64G    0.02689    0.02782   0.001573         42        224: 100% 292/292 [01:02<00:00,  4.68it/s]\n",
            "                 Class     Images  Instances          P          R      mAP50   mAP50-95: 100% 6/6 [00:01<00:00,  3.96it/s]\n",
            "                   all        181        659      0.775       0.85      0.843      0.563\n",
            "\n",
            "      Epoch    GPU_mem   box_loss   obj_loss   cls_loss  Instances       Size\n",
            "      15/19      0.64G    0.02628    0.02734   0.001574         48        224: 100% 292/292 [01:02<00:00,  4.69it/s]\n",
            "                 Class     Images  Instances          P          R      mAP50   mAP50-95: 100% 6/6 [00:01<00:00,  4.18it/s]\n",
            "                   all        181        659      0.765      0.844      0.825      0.533\n",
            "\n",
            "      Epoch    GPU_mem   box_loss   obj_loss   cls_loss  Instances       Size\n",
            "      16/19      0.64G    0.02565    0.02719   0.001614         61        224: 100% 292/292 [01:02<00:00,  4.70it/s]\n",
            "                 Class     Images  Instances          P          R      mAP50   mAP50-95: 100% 6/6 [00:01<00:00,  3.91it/s]\n",
            "                   all        181        659      0.802       0.79       0.82      0.512\n",
            "\n",
            "      Epoch    GPU_mem   box_loss   obj_loss   cls_loss  Instances       Size\n",
            "      17/19      0.64G    0.02565    0.02693   0.001661         46        224: 100% 292/292 [01:02<00:00,  4.66it/s]\n",
            "                 Class     Images  Instances          P          R      mAP50   mAP50-95: 100% 6/6 [00:01<00:00,  3.90it/s]\n",
            "                   all        181        659      0.746      0.882      0.837      0.544\n",
            "\n",
            "      Epoch    GPU_mem   box_loss   obj_loss   cls_loss  Instances       Size\n",
            "      18/19      0.64G    0.02537    0.02689   0.001501         53        224: 100% 292/292 [01:02<00:00,  4.71it/s]\n",
            "                 Class     Images  Instances          P          R      mAP50   mAP50-95: 100% 6/6 [00:01<00:00,  4.25it/s]\n",
            "                   all        181        659      0.749      0.862      0.818      0.517\n",
            "\n",
            "      Epoch    GPU_mem   box_loss   obj_loss   cls_loss  Instances       Size\n",
            "      19/19      0.64G    0.02479    0.02671    0.00147         50        224: 100% 292/292 [03:39<00:00,  1.33it/s]\n",
            "                 Class     Images  Instances          P          R      mAP50   mAP50-95: 100% 6/6 [00:01<00:00,  4.40it/s]\n",
            "                   all        181        659      0.744      0.871      0.825      0.534\n",
            "\n",
            "20 epochs completed in 0.404 hours.\n",
            "Optimizer stripped from runs/train/exp2/weights/last.pt, 14.3MB\n",
            "Optimizer stripped from runs/train/exp2/weights/best.pt, 14.3MB\n",
            "\n",
            "Validating runs/train/exp2/weights/best.pt...\n",
            "Fusing layers... \n",
            "Model summary: 157 layers, 7015519 parameters, 0 gradients, 15.8 GFLOPs\n",
            "                 Class     Images  Instances          P          R      mAP50   mAP50-95: 100% 6/6 [00:02<00:00,  2.21it/s]\n",
            "                   all        181        659      0.772      0.852      0.843      0.563\n",
            "                banana        181        199      0.825        0.9      0.886      0.609\n",
            "               cassava        181        460      0.718      0.804        0.8      0.518\n",
            "Results saved to \u001b[1mruns/train/exp2\u001b[0m\n"
          ]
        }
      ]
    },
    {
      "cell_type": "markdown",
      "source": [
        "## Exporting data and Model obtained from training"
      ],
      "metadata": {
        "id": "0wfedQ8mw57a"
      }
    },
    {
      "cell_type": "code",
      "source": [
        "# !zip -r /content/yolov5_data.zip /content/yolov5"
      ],
      "metadata": {
        "id": "3xWu9OvZvd1n"
      },
      "execution_count": null,
      "outputs": []
    },
    {
      "cell_type": "code",
      "source": [
        "from google.colab import files\n",
        "# !zip -r /content/yolov5_data.zip /content/train_test\n",
        "# files.download('/content/yolov5_data.zip')"
      ],
      "metadata": {
        "colab": {
          "base_uri": "https://localhost:8080/",
          "height": 17
        },
        "id": "UBAKnbhWvduA",
        "outputId": "876b4d0d-906e-4dfa-8830-fdee287d69c1"
      },
      "execution_count": null,
      "outputs": [
        {
          "output_type": "display_data",
          "data": {
            "text/plain": [
              "<IPython.core.display.Javascript object>"
            ],
            "application/javascript": [
              "\n",
              "    async function download(id, filename, size) {\n",
              "      if (!google.colab.kernel.accessAllowed) {\n",
              "        return;\n",
              "      }\n",
              "      const div = document.createElement('div');\n",
              "      const label = document.createElement('label');\n",
              "      label.textContent = `Downloading \"${filename}\": `;\n",
              "      div.appendChild(label);\n",
              "      const progress = document.createElement('progress');\n",
              "      progress.max = size;\n",
              "      div.appendChild(progress);\n",
              "      document.body.appendChild(div);\n",
              "\n",
              "      const buffers = [];\n",
              "      let downloaded = 0;\n",
              "\n",
              "      const channel = await google.colab.kernel.comms.open(id);\n",
              "      // Send a message to notify the kernel that we're ready.\n",
              "      channel.send({})\n",
              "\n",
              "      for await (const message of channel.messages) {\n",
              "        // Send a message to notify the kernel that we're ready.\n",
              "        channel.send({})\n",
              "        if (message.buffers) {\n",
              "          for (const buffer of message.buffers) {\n",
              "            buffers.push(buffer);\n",
              "            downloaded += buffer.byteLength;\n",
              "            progress.value = downloaded;\n",
              "          }\n",
              "        }\n",
              "      }\n",
              "      const blob = new Blob(buffers, {type: 'application/binary'});\n",
              "      const a = document.createElement('a');\n",
              "      a.href = window.URL.createObjectURL(blob);\n",
              "      a.download = filename;\n",
              "      div.appendChild(a);\n",
              "      a.click();\n",
              "      div.remove();\n",
              "    }\n",
              "  "
            ]
          },
          "metadata": {}
        },
        {
          "output_type": "display_data",
          "data": {
            "text/plain": [
              "<IPython.core.display.Javascript object>"
            ],
            "application/javascript": [
              "download(\"download_80c59c7e-aa37-4add-aad5-03ff23c4350b\", \"yolov5_data.zip\", 59087506)"
            ]
          },
          "metadata": {}
        }
      ]
    },
    {
      "cell_type": "markdown",
      "source": [
        "## Testing on unseen data(Test Data)"
      ],
      "metadata": {
        "id": "xVaiizkDxAz7"
      }
    },
    {
      "cell_type": "code",
      "source": [
        "!python detect.py --weights /content/yolov5/runs/train/exp2/weights/best.pt --img 224 --conf 0.7 --source /content/drive/MyDrive/computer_vision_exam/already_split/images_yolo_annotated/test/images"
      ],
      "metadata": {
        "colab": {
          "base_uri": "https://localhost:8080/"
        },
        "id": "P9MooBqYvdm3",
        "outputId": "72c984b8-17f4-4518-9c8f-a19b7db9a7d4"
      },
      "execution_count": null,
      "outputs": [
        {
          "output_type": "stream",
          "name": "stdout",
          "text": [
            "\u001b[34m\u001b[1mdetect: \u001b[0mweights=['/content/yolov5/runs/train/exp2/weights/best.pt'], source=/content/drive/MyDrive/computer_vision_exam/already_split/images_yolo_annotated/test/images, data=data/coco128.yaml, imgsz=[224, 224], conf_thres=0.7, iou_thres=0.45, max_det=1000, device=, view_img=False, save_txt=False, save_conf=False, save_crop=False, nosave=False, classes=None, agnostic_nms=False, augment=False, visualize=False, update=False, project=runs/detect, name=exp, exist_ok=False, line_thickness=3, hide_labels=False, hide_conf=False, half=False, dnn=False, vid_stride=1\n",
            "YOLOv5 🚀 v6.2-187-g5ef69ef Python-3.7.14 torch-1.12.1+cu113 CUDA:0 (Tesla T4, 15110MiB)\n",
            "\n",
            "Fusing layers... \n",
            "Model summary: 157 layers, 7015519 parameters, 0 gradients, 15.8 GFLOPs\n",
            "image 1/91 /content/drive/MyDrive/computer_vision_exam/already_split/images_yolo_annotated/test/images/frame103_jpg.rf.f47e925d14d4753611e438ab6df300c4.jpg: 224x224 2 bananas, 3 cassavas, 8.0ms\n",
            "image 2/91 /content/drive/MyDrive/computer_vision_exam/already_split/images_yolo_annotated/test/images/frame119_jpg.rf.48439c285c8aceb4d930b804f801c9da.jpg: 224x224 2 bananas, 2 cassavas, 7.8ms\n",
            "image 3/91 /content/drive/MyDrive/computer_vision_exam/already_split/images_yolo_annotated/test/images/frame121_jpg.rf.4be3b835b62768a6c4c0da97fb8181d1.jpg: 224x224 2 bananas, 2 cassavas, 7.9ms\n",
            "image 4/91 /content/drive/MyDrive/computer_vision_exam/already_split/images_yolo_annotated/test/images/frame12_jpg.rf.0269e9298ab017acfda1dae5c9adb309.jpg: 224x224 2 bananas, 4 cassavas, 7.7ms\n",
            "image 5/91 /content/drive/MyDrive/computer_vision_exam/already_split/images_yolo_annotated/test/images/frame147_jpg.rf.e51e6d3c4b2362fca4fa7ec3d516fee4.jpg: 224x224 1 banana, 3 cassavas, 7.8ms\n",
            "image 6/91 /content/drive/MyDrive/computer_vision_exam/already_split/images_yolo_annotated/test/images/frame148_jpg.rf.ef6dd64bc0446975d521cb488b4ad793.jpg: 224x224 2 bananas, 4 cassavas, 8.0ms\n",
            "image 7/91 /content/drive/MyDrive/computer_vision_exam/already_split/images_yolo_annotated/test/images/frame149_jpg.rf.502d4b6887da07babc566df7cd8c8760.jpg: 224x224 2 bananas, 3 cassavas, 8.0ms\n",
            "image 8/91 /content/drive/MyDrive/computer_vision_exam/already_split/images_yolo_annotated/test/images/frame15_jpg.rf.aa17f1458c550efe44675147246969ba.jpg: 224x224 2 bananas, 3 cassavas, 7.9ms\n",
            "image 9/91 /content/drive/MyDrive/computer_vision_exam/already_split/images_yolo_annotated/test/images/frame16_jpg.rf.3f3ae0a2d54ec3b80019a4368aeb465b.jpg: 224x224 2 bananas, 4 cassavas, 7.5ms\n",
            "image 10/91 /content/drive/MyDrive/computer_vision_exam/already_split/images_yolo_annotated/test/images/frame174_jpg.rf.d5fd1fc6048294f388c2da4ac3af7f1c.jpg: 224x224 2 bananas, 3 cassavas, 7.5ms\n",
            "image 11/91 /content/drive/MyDrive/computer_vision_exam/already_split/images_yolo_annotated/test/images/frame182_jpg.rf.6a8ad8895ab4aab2ce2e1998a2fb1656.jpg: 224x224 2 bananas, 3 cassavas, 8.1ms\n",
            "image 12/91 /content/drive/MyDrive/computer_vision_exam/already_split/images_yolo_annotated/test/images/frame185_jpg.rf.4f861866ac5706589e560b357e15cb57.jpg: 224x224 2 bananas, 3 cassavas, 7.8ms\n",
            "image 13/91 /content/drive/MyDrive/computer_vision_exam/already_split/images_yolo_annotated/test/images/frame197_jpg.rf.98923c375a71099615570ab3a0339c70.jpg: 224x224 2 bananas, 4 cassavas, 7.7ms\n",
            "image 14/91 /content/drive/MyDrive/computer_vision_exam/already_split/images_yolo_annotated/test/images/frame24_jpg.rf.4199d645009f2a670c1951810f6b873b.jpg: 224x224 2 bananas, 4 cassavas, 7.8ms\n",
            "image 15/91 /content/drive/MyDrive/computer_vision_exam/already_split/images_yolo_annotated/test/images/frame257_jpg.rf.ecd34880356a492b768519ecb9f0e049.jpg: 224x224 2 bananas, 2 cassavas, 8.2ms\n",
            "image 16/91 /content/drive/MyDrive/computer_vision_exam/already_split/images_yolo_annotated/test/images/frame280_jpg.rf.66c412a3c3411e8b6151182ea3ddd156.jpg: 224x224 2 bananas, 1 cassava, 7.9ms\n",
            "image 17/91 /content/drive/MyDrive/computer_vision_exam/already_split/images_yolo_annotated/test/images/frame305_jpg.rf.a9113592aca6244eb37d05341f8681d9.jpg: 224x224 2 bananas, 1 cassava, 9.4ms\n",
            "image 18/91 /content/drive/MyDrive/computer_vision_exam/already_split/images_yolo_annotated/test/images/frame362_jpg.rf.24296ae6df8aa262bea3c2af0f85bc93.jpg: 224x224 1 banana, 1 cassava, 7.8ms\n",
            "image 19/91 /content/drive/MyDrive/computer_vision_exam/already_split/images_yolo_annotated/test/images/frame366_jpg.rf.12c33f6b9abeceb102d8e6badcc8b769.jpg: 224x224 1 banana, 1 cassava, 9.1ms\n",
            "image 20/91 /content/drive/MyDrive/computer_vision_exam/already_split/images_yolo_annotated/test/images/frame435_jpg.rf.7b61d52813f9edf19b155c4a16deb769.jpg: 224x224 1 banana, 1 cassava, 7.7ms\n",
            "image 21/91 /content/drive/MyDrive/computer_vision_exam/already_split/images_yolo_annotated/test/images/frame442_jpg.rf.581f545c1618f2238438d1d3dbe36c66.jpg: 224x224 1 banana, 1 cassava, 8.1ms\n",
            "image 22/91 /content/drive/MyDrive/computer_vision_exam/already_split/images_yolo_annotated/test/images/frame454_jpg.rf.8a44d04e1cff8ac5b1f6171be8c02f77.jpg: 224x224 1 banana, 1 cassava, 7.7ms\n",
            "image 23/91 /content/drive/MyDrive/computer_vision_exam/already_split/images_yolo_annotated/test/images/frame463_jpg.rf.b068f498909e1da3d4fdbac6cb5b803d.jpg: 224x224 1 banana, 1 cassava, 7.6ms\n",
            "image 24/91 /content/drive/MyDrive/computer_vision_exam/already_split/images_yolo_annotated/test/images/frame468_jpg.rf.9ac4543b4885235baa137abb0387ad90.jpg: 224x224 1 banana, 7.8ms\n",
            "image 25/91 /content/drive/MyDrive/computer_vision_exam/already_split/images_yolo_annotated/test/images/frame473_jpg.rf.5c236a20218b44c214526b0aa2226e8c.jpg: 224x224 1 banana, 7.7ms\n",
            "image 26/91 /content/drive/MyDrive/computer_vision_exam/already_split/images_yolo_annotated/test/images/frame481_jpg.rf.f7bae5db6f60d24c7a70b138bf5c6324.jpg: 224x224 1 banana, 1 cassava, 7.7ms\n",
            "image 27/91 /content/drive/MyDrive/computer_vision_exam/already_split/images_yolo_annotated/test/images/frame482_jpg.rf.ec54e7224559da2929abcafd02faf069.jpg: 224x224 1 banana, 8.0ms\n",
            "image 28/91 /content/drive/MyDrive/computer_vision_exam/already_split/images_yolo_annotated/test/images/frame488_jpg.rf.d567ba2601685db3916a7aa48fdc6db7.jpg: 224x224 1 banana, 9.7ms\n",
            "image 29/91 /content/drive/MyDrive/computer_vision_exam/already_split/images_yolo_annotated/test/images/frame492_jpg.rf.4a2477d162f92a1f423db9262659f349.jpg: 224x224 1 banana, 7.7ms\n",
            "image 30/91 /content/drive/MyDrive/computer_vision_exam/already_split/images_yolo_annotated/test/images/frame493_jpg.rf.303aceeaae8100055c5a4d7bdd6e138c.jpg: 224x224 1 banana, 7.8ms\n",
            "image 31/91 /content/drive/MyDrive/computer_vision_exam/already_split/images_yolo_annotated/test/images/frame4_jpg.rf.2fdcc8e4ce4491c07aee1eb8bbc1f798.jpg: 224x224 2 bananas, 3 cassavas, 8.0ms\n",
            "image 32/91 /content/drive/MyDrive/computer_vision_exam/already_split/images_yolo_annotated/test/images/frame528_jpg.rf.9e4bcc0d1e0184fdabc4b421967ce2db.jpg: 224x224 1 banana, 7.7ms\n",
            "image 33/91 /content/drive/MyDrive/computer_vision_exam/already_split/images_yolo_annotated/test/images/frame548_jpg.rf.b779b572247429f2431fd788b43f9539.jpg: 224x224 1 banana, 7.8ms\n",
            "image 34/91 /content/drive/MyDrive/computer_vision_exam/already_split/images_yolo_annotated/test/images/frame54_jpg.rf.cf3c1dad5106ac6433dd010bc6e523e9.jpg: 224x224 2 bananas, 3 cassavas, 7.8ms\n",
            "image 35/91 /content/drive/MyDrive/computer_vision_exam/already_split/images_yolo_annotated/test/images/frame553_jpg.rf.8ede679d3713162b345060a62db59335.jpg: 224x224 1 banana, 1 cassava, 7.6ms\n",
            "image 36/91 /content/drive/MyDrive/computer_vision_exam/already_split/images_yolo_annotated/test/images/frame570_jpg.rf.1a22bc1213515cc041eeac63c905292f.jpg: 224x224 1 banana, 1 cassava, 7.7ms\n",
            "image 37/91 /content/drive/MyDrive/computer_vision_exam/already_split/images_yolo_annotated/test/images/frame572_jpg.rf.c60891fff3c881441c41456b823b6bcb.jpg: 224x224 1 banana, 1 cassava, 7.8ms\n",
            "image 38/91 /content/drive/MyDrive/computer_vision_exam/already_split/images_yolo_annotated/test/images/frame575_jpg.rf.f185e311fbc330b3332108238268f401.jpg: 224x224 1 banana, 1 cassava, 8.3ms\n",
            "image 39/91 /content/drive/MyDrive/computer_vision_exam/already_split/images_yolo_annotated/test/images/frame582_jpg.rf.b7d62befabada13d29755d8bd61c824e.jpg: 224x224 1 banana, 7.8ms\n",
            "image 40/91 /content/drive/MyDrive/computer_vision_exam/already_split/images_yolo_annotated/test/images/frame584_jpg.rf.c451626bfa9b7b9b2b564e4be6c8a661.jpg: 224x224 1 banana, 1 cassava, 7.9ms\n",
            "image 41/91 /content/drive/MyDrive/computer_vision_exam/already_split/images_yolo_annotated/test/images/frame586_jpg.rf.b718b78221211a623b97389fe993f572.jpg: 224x224 1 banana, 1 cassava, 11.4ms\n",
            "image 42/91 /content/drive/MyDrive/computer_vision_exam/already_split/images_yolo_annotated/test/images/frame60_jpg.rf.83427a0dad1550e5284128d93179b132.jpg: 224x224 2 bananas, 2 cassavas, 8.1ms\n",
            "image 43/91 /content/drive/MyDrive/computer_vision_exam/already_split/images_yolo_annotated/test/images/frame610_jpg.rf.bf9bbd4c466cda8e911db58ad5e22b8a.jpg: 224x224 1 banana, 1 cassava, 7.7ms\n",
            "image 44/91 /content/drive/MyDrive/computer_vision_exam/already_split/images_yolo_annotated/test/images/frame613_jpg.rf.316f6b8951136a666661c91a1bb3d7b9.jpg: 224x224 1 banana, 1 cassava, 7.8ms\n",
            "image 45/91 /content/drive/MyDrive/computer_vision_exam/already_split/images_yolo_annotated/test/images/frame635_jpg.rf.d9eb0f851a1fdf15e1eabd5adb38fcdb.jpg: 224x224 1 banana, 1 cassava, 9.2ms\n",
            "image 46/91 /content/drive/MyDrive/computer_vision_exam/already_split/images_yolo_annotated/test/images/frame642_jpg.rf.854734b23de9283ed4fbed0250e17e8c.jpg: 224x224 1 banana, 1 cassava, 7.7ms\n",
            "image 47/91 /content/drive/MyDrive/computer_vision_exam/already_split/images_yolo_annotated/test/images/frame649_jpg.rf.1953774e6866d5674c978c5f6447128b.jpg: 224x224 1 banana, 1 cassava, 7.7ms\n",
            "image 48/91 /content/drive/MyDrive/computer_vision_exam/already_split/images_yolo_annotated/test/images/frame653_jpg.rf.d92cbfc868b37786035bd224483938da.jpg: 224x224 1 banana, 2 cassavas, 8.9ms\n",
            "image 49/91 /content/drive/MyDrive/computer_vision_exam/already_split/images_yolo_annotated/test/images/frame677_jpg.rf.a9ec87427db920d2ef13e7b2aec096e1.jpg: 224x224 1 banana, 2 cassavas, 7.9ms\n",
            "image 50/91 /content/drive/MyDrive/computer_vision_exam/already_split/images_yolo_annotated/test/images/frame680_jpg.rf.742b7d57e49f74e2ef5285d82df6c41a.jpg: 224x224 1 banana, 2 cassavas, 7.7ms\n",
            "image 51/91 /content/drive/MyDrive/computer_vision_exam/already_split/images_yolo_annotated/test/images/frame687_jpg.rf.16fe64d51ac86f9d6c9f543639a98b87.jpg: 224x224 1 banana, 1 cassava, 7.8ms\n",
            "image 52/91 /content/drive/MyDrive/computer_vision_exam/already_split/images_yolo_annotated/test/images/frame69_jpg.rf.e78011c028914f155296d3b99dee7fcd.jpg: 224x224 2 bananas, 4 cassavas, 7.6ms\n",
            "image 53/91 /content/drive/MyDrive/computer_vision_exam/already_split/images_yolo_annotated/test/images/frame704_jpg.rf.e974d6d80b4e5133a7713179b116417f.jpg: 224x224 1 banana, 1 cassava, 7.6ms\n",
            "image 54/91 /content/drive/MyDrive/computer_vision_exam/already_split/images_yolo_annotated/test/images/frame70_jpg.rf.5d6573d7ff714f12992bdad44bcf2336.jpg: 224x224 2 bananas, 4 cassavas, 7.6ms\n",
            "image 55/91 /content/drive/MyDrive/computer_vision_exam/already_split/images_yolo_annotated/test/images/frame717_jpg.rf.eafa4cfc023cb4b4a20521a88ede38fe.jpg: 224x224 1 banana, 1 cassava, 7.8ms\n",
            "image 56/91 /content/drive/MyDrive/computer_vision_exam/already_split/images_yolo_annotated/test/images/frame719_jpg.rf.9417f583babb577aa8dcde5a9a008e8c.jpg: 224x224 1 banana, 1 cassava, 8.0ms\n",
            "image 57/91 /content/drive/MyDrive/computer_vision_exam/already_split/images_yolo_annotated/test/images/frame71_jpg.rf.2fac1df71401a7558f370c224758b092.jpg: 224x224 2 bananas, 3 cassavas, 7.9ms\n",
            "image 58/91 /content/drive/MyDrive/computer_vision_exam/already_split/images_yolo_annotated/test/images/frame729_jpg.rf.781ad88e8635ac9009d237190918850f.jpg: 224x224 1 cassava, 7.8ms\n",
            "image 59/91 /content/drive/MyDrive/computer_vision_exam/already_split/images_yolo_annotated/test/images/frame747_jpg.rf.c527a03f61b8fade7467cd7ab57cab70.jpg: 224x224 1 cassava, 7.9ms\n",
            "image 60/91 /content/drive/MyDrive/computer_vision_exam/already_split/images_yolo_annotated/test/images/frame758_jpg.rf.fac6f8725758400ccbf9e4a6cec61e8f.jpg: 224x224 2 cassavas, 8.1ms\n",
            "image 61/91 /content/drive/MyDrive/computer_vision_exam/already_split/images_yolo_annotated/test/images/frame764_jpg.rf.2cfaab5130fc8d1128e5bd7b025fabff.jpg: 224x224 1 cassava, 7.9ms\n",
            "image 62/91 /content/drive/MyDrive/computer_vision_exam/already_split/images_yolo_annotated/test/images/frame783_jpg.rf.25886bebf5249aa997bbf5fd34c534af.jpg: 224x224 1 cassava, 7.6ms\n",
            "image 63/91 /content/drive/MyDrive/computer_vision_exam/already_split/images_yolo_annotated/test/images/frame788_jpg.rf.51f1f40c49dfb8133c3ef8f7e56e6942.jpg: 224x224 2 cassavas, 8.2ms\n",
            "image 64/91 /content/drive/MyDrive/computer_vision_exam/already_split/images_yolo_annotated/test/images/frame794_jpg.rf.52fd22c6bd546dd2f79497fbe3e471f7.jpg: 224x224 2 cassavas, 8.0ms\n",
            "image 65/91 /content/drive/MyDrive/computer_vision_exam/already_split/images_yolo_annotated/test/images/frame799_jpg.rf.0cd87967ccce37cbfd89c65c6ec736ba.jpg: 224x224 3 cassavas, 7.8ms\n",
            "image 66/91 /content/drive/MyDrive/computer_vision_exam/already_split/images_yolo_annotated/test/images/frame79_jpg.rf.52f43c2e42c8d8dba639ab0aff0bb5c9.jpg: 224x224 2 bananas, 3 cassavas, 7.5ms\n",
            "image 67/91 /content/drive/MyDrive/computer_vision_exam/already_split/images_yolo_annotated/test/images/frame7_jpg.rf.9e9f8707618fc8643fe6a5f0e2616b5a.jpg: 224x224 2 bananas, 3 cassavas, 7.6ms\n",
            "image 68/91 /content/drive/MyDrive/computer_vision_exam/already_split/images_yolo_annotated/test/images/frame814_jpg.rf.cecadcc2dcb48f5506d1c10331058358.jpg: 224x224 4 cassavas, 7.7ms\n",
            "image 69/91 /content/drive/MyDrive/computer_vision_exam/already_split/images_yolo_annotated/test/images/frame819_jpg.rf.25273b526e53d99c656fbb2f78f54cf5.jpg: 224x224 4 cassavas, 10.4ms\n",
            "image 70/91 /content/drive/MyDrive/computer_vision_exam/already_split/images_yolo_annotated/test/images/frame824_jpg.rf.896fed3b567acffe6a80cf773319f017.jpg: 224x224 3 cassavas, 7.7ms\n",
            "image 71/91 /content/drive/MyDrive/computer_vision_exam/already_split/images_yolo_annotated/test/images/frame827_jpg.rf.635eb72fb994b0d7a81305342c66c186.jpg: 224x224 3 cassavas, 7.8ms\n",
            "image 72/91 /content/drive/MyDrive/computer_vision_exam/already_split/images_yolo_annotated/test/images/frame82_jpg.rf.5cb8d8e83fff9ae891fa85edb35edf29.jpg: 224x224 2 bananas, 2 cassavas, 8.3ms\n",
            "image 73/91 /content/drive/MyDrive/computer_vision_exam/already_split/images_yolo_annotated/test/images/frame84_jpg.rf.ef233cd331e55a16b6b24dd8446f72be.jpg: 224x224 2 bananas, 4 cassavas, 7.7ms\n",
            "image 74/91 /content/drive/MyDrive/computer_vision_exam/already_split/images_yolo_annotated/test/images/frame852_jpg.rf.633c00732014413017bc2147ad0e0ec0.jpg: 224x224 3 cassavas, 7.7ms\n",
            "image 75/91 /content/drive/MyDrive/computer_vision_exam/already_split/images_yolo_annotated/test/images/frame856_jpg.rf.c4ed9ebf9501c7349dec77dea66db19f.jpg: 224x224 3 cassavas, 7.8ms\n",
            "image 76/91 /content/drive/MyDrive/computer_vision_exam/already_split/images_yolo_annotated/test/images/frame861_jpg.rf.319cf3e36bb1bfedd3a6e7167b4b3e36.jpg: 224x224 3 cassavas, 8.1ms\n",
            "image 77/91 /content/drive/MyDrive/computer_vision_exam/already_split/images_yolo_annotated/test/images/frame862_jpg.rf.d73277ce70aa95899e1a7647b42e8470.jpg: 224x224 3 cassavas, 7.6ms\n",
            "image 78/91 /content/drive/MyDrive/computer_vision_exam/already_split/images_yolo_annotated/test/images/frame876_jpg.rf.3dc4fd281699e193eb7ad1919ebb53f7.jpg: 224x224 4 cassavas, 7.6ms\n",
            "image 79/91 /content/drive/MyDrive/computer_vision_exam/already_split/images_yolo_annotated/test/images/frame880_jpg.rf.d046248f48131ece31a761ad1cd458bc.jpg: 224x224 4 cassavas, 7.7ms\n",
            "image 80/91 /content/drive/MyDrive/computer_vision_exam/already_split/images_yolo_annotated/test/images/frame882_jpg.rf.051ed1541898a5d4c53d0919220f47b8.jpg: 224x224 4 cassavas, 7.5ms\n",
            "image 81/91 /content/drive/MyDrive/computer_vision_exam/already_split/images_yolo_annotated/test/images/frame886_jpg.rf.3dece97ed9dfc1405c41f4c7f7b3565a.jpg: 224x224 3 cassavas, 8.1ms\n",
            "image 82/91 /content/drive/MyDrive/computer_vision_exam/already_split/images_yolo_annotated/test/images/frame896_jpg.rf.c4ed2ec53bc72a06fb4c2b5786f1b92a.jpg: 224x224 3 cassavas, 8.1ms\n",
            "image 83/91 /content/drive/MyDrive/computer_vision_exam/already_split/images_yolo_annotated/test/images/frame937_jpg.rf.2eb3a7c30bf243da2ae86d7844e738b3.jpg: 224x224 3 cassavas, 7.6ms\n",
            "image 84/91 /content/drive/MyDrive/computer_vision_exam/already_split/images_yolo_annotated/test/images/frame93_jpg.rf.de5fa0632902e45398bcec0d5758a5b3.jpg: 224x224 2 bananas, 3 cassavas, 7.8ms\n",
            "image 85/91 /content/drive/MyDrive/computer_vision_exam/already_split/images_yolo_annotated/test/images/frame945_jpg.rf.b9aab7e78d71ea16d31bd10169562387.jpg: 224x224 3 cassavas, 8.7ms\n",
            "image 86/91 /content/drive/MyDrive/computer_vision_exam/already_split/images_yolo_annotated/test/images/frame964_jpg.rf.6adeca87dfd408b7f99debbe39085e8e.jpg: 224x224 3 cassavas, 10.5ms\n",
            "image 87/91 /content/drive/MyDrive/computer_vision_exam/already_split/images_yolo_annotated/test/images/frame965_jpg.rf.c4bfa2576562e45903688089701a4baa.jpg: 224x224 3 cassavas, 7.7ms\n",
            "image 88/91 /content/drive/MyDrive/computer_vision_exam/already_split/images_yolo_annotated/test/images/frame970_jpg.rf.cf339192386451e4a50f86373863ab98.jpg: 224x224 3 cassavas, 7.6ms\n",
            "image 89/91 /content/drive/MyDrive/computer_vision_exam/already_split/images_yolo_annotated/test/images/frame981_jpg.rf.51badd15cb77b5c8a0cec8d0185937d6.jpg: 224x224 3 cassavas, 7.8ms\n",
            "image 90/91 /content/drive/MyDrive/computer_vision_exam/already_split/images_yolo_annotated/test/images/frame982_jpg.rf.8e9fd7202579669a4461c861e202dbbb.jpg: 224x224 4 cassavas, 8.0ms\n",
            "image 91/91 /content/drive/MyDrive/computer_vision_exam/already_split/images_yolo_annotated/test/images/frame983_jpg.rf.260120a00bda7e34198a32728909e2ac.jpg: 224x224 3 cassavas, 7.6ms\n",
            "Speed: 0.3ms pre-process, 8.0ms inference, 1.0ms NMS per image at shape (1, 3, 224, 224)\n",
            "Results saved to \u001b[1mruns/detect/exp\u001b[0m\n"
          ]
        }
      ]
    },
    {
      "cell_type": "code",
      "source": [
        "# !zip -r /content/yolov5/runs/detect.zip /content/yolov5/runs/detect"
      ],
      "metadata": {
        "colab": {
          "base_uri": "https://localhost:8080/"
        },
        "id": "wAK4XoKV3Z4w",
        "outputId": "818e3e75-af4a-4cc9-ec0a-63f91a2f29ab"
      },
      "execution_count": null,
      "outputs": [
        {
          "output_type": "stream",
          "name": "stdout",
          "text": [
            "  adding: content/yolov5/runs/detect/ (stored 0%)\n",
            "  adding: content/yolov5/runs/detect/exp/ (stored 0%)\n",
            "  adding: content/yolov5/runs/detect/exp/frame185_jpg.rf.4f861866ac5706589e560b357e15cb57.jpg (deflated 4%)\n",
            "  adding: content/yolov5/runs/detect/exp/frame305_jpg.rf.a9113592aca6244eb37d05341f8681d9.jpg (deflated 3%)\n",
            "  adding: content/yolov5/runs/detect/exp/frame964_jpg.rf.6adeca87dfd408b7f99debbe39085e8e.jpg (deflated 3%)\n",
            "  adding: content/yolov5/runs/detect/exp/frame182_jpg.rf.6a8ad8895ab4aab2ce2e1998a2fb1656.jpg (deflated 3%)\n",
            "  adding: content/yolov5/runs/detect/exp/frame747_jpg.rf.c527a03f61b8fade7467cd7ab57cab70.jpg (deflated 4%)\n",
            "  adding: content/yolov5/runs/detect/exp/frame197_jpg.rf.98923c375a71099615570ab3a0339c70.jpg (deflated 3%)\n",
            "  adding: content/yolov5/runs/detect/exp/frame783_jpg.rf.25886bebf5249aa997bbf5fd34c534af.jpg (deflated 5%)\n",
            "  adding: content/yolov5/runs/detect/exp/frame119_jpg.rf.48439c285c8aceb4d930b804f801c9da.jpg (deflated 4%)\n",
            "  adding: content/yolov5/runs/detect/exp/frame965_jpg.rf.c4bfa2576562e45903688089701a4baa.jpg (deflated 4%)\n",
            "  adding: content/yolov5/runs/detect/exp/frame882_jpg.rf.051ed1541898a5d4c53d0919220f47b8.jpg (deflated 3%)\n",
            "  adding: content/yolov5/runs/detect/exp/frame586_jpg.rf.b718b78221211a623b97389fe993f572.jpg (deflated 4%)\n",
            "  adding: content/yolov5/runs/detect/exp/frame12_jpg.rf.0269e9298ab017acfda1dae5c9adb309.jpg (deflated 3%)\n",
            "  adding: content/yolov5/runs/detect/exp/frame677_jpg.rf.a9ec87427db920d2ef13e7b2aec096e1.jpg (deflated 3%)\n",
            "  adding: content/yolov5/runs/detect/exp/frame482_jpg.rf.ec54e7224559da2929abcafd02faf069.jpg (deflated 5%)\n",
            "  adding: content/yolov5/runs/detect/exp/frame582_jpg.rf.b7d62befabada13d29755d8bd61c824e.jpg (deflated 5%)\n",
            "  adding: content/yolov5/runs/detect/exp/frame970_jpg.rf.cf339192386451e4a50f86373863ab98.jpg (deflated 4%)\n",
            "  adding: content/yolov5/runs/detect/exp/frame886_jpg.rf.3dece97ed9dfc1405c41f4c7f7b3565a.jpg (deflated 3%)\n",
            "  adding: content/yolov5/runs/detect/exp/frame570_jpg.rf.1a22bc1213515cc041eeac63c905292f.jpg (deflated 4%)\n",
            "  adding: content/yolov5/runs/detect/exp/frame814_jpg.rf.cecadcc2dcb48f5506d1c10331058358.jpg (deflated 2%)\n",
            "  adding: content/yolov5/runs/detect/exp/frame729_jpg.rf.781ad88e8635ac9009d237190918850f.jpg (deflated 4%)\n",
            "  adding: content/yolov5/runs/detect/exp/frame257_jpg.rf.ecd34880356a492b768519ecb9f0e049.jpg (deflated 3%)\n",
            "  adding: content/yolov5/runs/detect/exp/frame649_jpg.rf.1953774e6866d5674c978c5f6447128b.jpg (deflated 4%)\n",
            "  adding: content/yolov5/runs/detect/exp/frame799_jpg.rf.0cd87967ccce37cbfd89c65c6ec736ba.jpg (deflated 3%)\n",
            "  adding: content/yolov5/runs/detect/exp/frame493_jpg.rf.303aceeaae8100055c5a4d7bdd6e138c.jpg (deflated 4%)\n",
            "  adding: content/yolov5/runs/detect/exp/frame16_jpg.rf.3f3ae0a2d54ec3b80019a4368aeb465b.jpg (deflated 3%)\n",
            "  adding: content/yolov5/runs/detect/exp/frame280_jpg.rf.66c412a3c3411e8b6151182ea3ddd156.jpg (deflated 3%)\n",
            "  adding: content/yolov5/runs/detect/exp/frame463_jpg.rf.b068f498909e1da3d4fdbac6cb5b803d.jpg (deflated 4%)\n",
            "  adding: content/yolov5/runs/detect/exp/frame876_jpg.rf.3dc4fd281699e193eb7ad1919ebb53f7.jpg (deflated 3%)\n",
            "  adding: content/yolov5/runs/detect/exp/frame983_jpg.rf.260120a00bda7e34198a32728909e2ac.jpg (deflated 4%)\n",
            "  adding: content/yolov5/runs/detect/exp/frame70_jpg.rf.5d6573d7ff714f12992bdad44bcf2336.jpg (deflated 3%)\n",
            "  adding: content/yolov5/runs/detect/exp/frame610_jpg.rf.bf9bbd4c466cda8e911db58ad5e22b8a.jpg (deflated 3%)\n",
            "  adding: content/yolov5/runs/detect/exp/frame93_jpg.rf.de5fa0632902e45398bcec0d5758a5b3.jpg (deflated 4%)\n",
            "  adding: content/yolov5/runs/detect/exp/frame174_jpg.rf.d5fd1fc6048294f388c2da4ac3af7f1c.jpg (deflated 3%)\n",
            "  adding: content/yolov5/runs/detect/exp/frame435_jpg.rf.7b61d52813f9edf19b155c4a16deb769.jpg (deflated 4%)\n",
            "  adding: content/yolov5/runs/detect/exp/frame862_jpg.rf.d73277ce70aa95899e1a7647b42e8470.jpg (deflated 3%)\n",
            "  adding: content/yolov5/runs/detect/exp/frame24_jpg.rf.4199d645009f2a670c1951810f6b873b.jpg (deflated 3%)\n",
            "  adding: content/yolov5/runs/detect/exp/frame635_jpg.rf.d9eb0f851a1fdf15e1eabd5adb38fcdb.jpg (deflated 4%)\n",
            "  adding: content/yolov5/runs/detect/exp/frame827_jpg.rf.635eb72fb994b0d7a81305342c66c186.jpg (deflated 3%)\n",
            "  adding: content/yolov5/runs/detect/exp/frame687_jpg.rf.16fe64d51ac86f9d6c9f543639a98b87.jpg (deflated 4%)\n",
            "  adding: content/yolov5/runs/detect/exp/frame553_jpg.rf.8ede679d3713162b345060a62db59335.jpg (deflated 3%)\n",
            "  adding: content/yolov5/runs/detect/exp/frame149_jpg.rf.502d4b6887da07babc566df7cd8c8760.jpg (deflated 4%)\n",
            "  adding: content/yolov5/runs/detect/exp/frame82_jpg.rf.5cb8d8e83fff9ae891fa85edb35edf29.jpg (deflated 3%)\n",
            "  adding: content/yolov5/runs/detect/exp/frame653_jpg.rf.d92cbfc868b37786035bd224483938da.jpg (deflated 3%)\n",
            "  adding: content/yolov5/runs/detect/exp/frame473_jpg.rf.5c236a20218b44c214526b0aa2226e8c.jpg (deflated 5%)\n",
            "  adding: content/yolov5/runs/detect/exp/frame856_jpg.rf.c4ed9ebf9501c7349dec77dea66db19f.jpg (deflated 3%)\n",
            "  adding: content/yolov5/runs/detect/exp/frame852_jpg.rf.633c00732014413017bc2147ad0e0ec0.jpg (deflated 3%)\n",
            "  adding: content/yolov5/runs/detect/exp/frame764_jpg.rf.2cfaab5130fc8d1128e5bd7b025fabff.jpg (deflated 5%)\n",
            "  adding: content/yolov5/runs/detect/exp/frame528_jpg.rf.9e4bcc0d1e0184fdabc4b421967ce2db.jpg (deflated 5%)\n",
            "  adding: content/yolov5/runs/detect/exp/frame861_jpg.rf.319cf3e36bb1bfedd3a6e7167b4b3e36.jpg (deflated 3%)\n",
            "  adding: content/yolov5/runs/detect/exp/frame15_jpg.rf.aa17f1458c550efe44675147246969ba.jpg (deflated 4%)\n",
            "  adding: content/yolov5/runs/detect/exp/frame488_jpg.rf.d567ba2601685db3916a7aa48fdc6db7.jpg (deflated 4%)\n",
            "  adding: content/yolov5/runs/detect/exp/frame572_jpg.rf.c60891fff3c881441c41456b823b6bcb.jpg (deflated 4%)\n",
            "  adding: content/yolov5/runs/detect/exp/frame680_jpg.rf.742b7d57e49f74e2ef5285d82df6c41a.jpg (deflated 3%)\n",
            "  adding: content/yolov5/runs/detect/exp/frame880_jpg.rf.d046248f48131ece31a761ad1cd458bc.jpg (deflated 2%)\n",
            "  adding: content/yolov5/runs/detect/exp/frame60_jpg.rf.83427a0dad1550e5284128d93179b132.jpg (deflated 3%)\n",
            "  adding: content/yolov5/runs/detect/exp/frame937_jpg.rf.2eb3a7c30bf243da2ae86d7844e738b3.jpg (deflated 3%)\n",
            "  adding: content/yolov5/runs/detect/exp/frame84_jpg.rf.ef233cd331e55a16b6b24dd8446f72be.jpg (deflated 3%)\n",
            "  adding: content/yolov5/runs/detect/exp/frame824_jpg.rf.896fed3b567acffe6a80cf773319f017.jpg (deflated 3%)\n",
            "  adding: content/yolov5/runs/detect/exp/frame492_jpg.rf.4a2477d162f92a1f423db9262659f349.jpg (deflated 4%)\n",
            "  adding: content/yolov5/runs/detect/exp/frame147_jpg.rf.e51e6d3c4b2362fca4fa7ec3d516fee4.jpg (deflated 4%)\n",
            "  adding: content/yolov5/runs/detect/exp/frame819_jpg.rf.25273b526e53d99c656fbb2f78f54cf5.jpg (deflated 2%)\n",
            "  adding: content/yolov5/runs/detect/exp/frame982_jpg.rf.8e9fd7202579669a4461c861e202dbbb.jpg (deflated 3%)\n",
            "  adding: content/yolov5/runs/detect/exp/frame945_jpg.rf.b9aab7e78d71ea16d31bd10169562387.jpg (deflated 3%)\n",
            "  adding: content/yolov5/runs/detect/exp/frame788_jpg.rf.51f1f40c49dfb8133c3ef8f7e56e6942.jpg (deflated 4%)\n",
            "  adding: content/yolov5/runs/detect/exp/frame4_jpg.rf.2fdcc8e4ce4491c07aee1eb8bbc1f798.jpg (deflated 4%)\n",
            "  adding: content/yolov5/runs/detect/exp/frame481_jpg.rf.f7bae5db6f60d24c7a70b138bf5c6324.jpg (deflated 4%)\n",
            "  adding: content/yolov5/runs/detect/exp/frame366_jpg.rf.12c33f6b9abeceb102d8e6badcc8b769.jpg (deflated 4%)\n",
            "  adding: content/yolov5/runs/detect/exp/frame896_jpg.rf.c4ed2ec53bc72a06fb4c2b5786f1b92a.jpg (deflated 3%)\n",
            "  adding: content/yolov5/runs/detect/exp/frame7_jpg.rf.9e9f8707618fc8643fe6a5f0e2616b5a.jpg (deflated 3%)\n",
            "  adding: content/yolov5/runs/detect/exp/frame148_jpg.rf.ef6dd64bc0446975d521cb488b4ad793.jpg (deflated 4%)\n",
            "  adding: content/yolov5/runs/detect/exp/frame362_jpg.rf.24296ae6df8aa262bea3c2af0f85bc93.jpg (deflated 4%)\n",
            "  adding: content/yolov5/runs/detect/exp/frame584_jpg.rf.c451626bfa9b7b9b2b564e4be6c8a661.jpg (deflated 4%)\n",
            "  adding: content/yolov5/runs/detect/exp/frame613_jpg.rf.316f6b8951136a666661c91a1bb3d7b9.jpg (deflated 3%)\n",
            "  adding: content/yolov5/runs/detect/exp/frame704_jpg.rf.e974d6d80b4e5133a7713179b116417f.jpg (deflated 4%)\n",
            "  adding: content/yolov5/runs/detect/exp/frame121_jpg.rf.4be3b835b62768a6c4c0da97fb8181d1.jpg (deflated 3%)\n",
            "  adding: content/yolov5/runs/detect/exp/frame79_jpg.rf.52f43c2e42c8d8dba639ab0aff0bb5c9.jpg (deflated 4%)\n",
            "  adding: content/yolov5/runs/detect/exp/frame719_jpg.rf.9417f583babb577aa8dcde5a9a008e8c.jpg (deflated 3%)\n",
            "  adding: content/yolov5/runs/detect/exp/frame717_jpg.rf.eafa4cfc023cb4b4a20521a88ede38fe.jpg (deflated 3%)\n",
            "  adding: content/yolov5/runs/detect/exp/frame548_jpg.rf.b779b572247429f2431fd788b43f9539.jpg (deflated 5%)\n",
            "  adding: content/yolov5/runs/detect/exp/frame71_jpg.rf.2fac1df71401a7558f370c224758b092.jpg (deflated 4%)\n",
            "  adding: content/yolov5/runs/detect/exp/frame575_jpg.rf.f185e311fbc330b3332108238268f401.jpg (deflated 4%)\n",
            "  adding: content/yolov5/runs/detect/exp/frame454_jpg.rf.8a44d04e1cff8ac5b1f6171be8c02f77.jpg (deflated 4%)\n",
            "  adding: content/yolov5/runs/detect/exp/frame642_jpg.rf.854734b23de9283ed4fbed0250e17e8c.jpg (deflated 4%)\n",
            "  adding: content/yolov5/runs/detect/exp/frame758_jpg.rf.fac6f8725758400ccbf9e4a6cec61e8f.jpg (deflated 3%)\n",
            "  adding: content/yolov5/runs/detect/exp/frame103_jpg.rf.f47e925d14d4753611e438ab6df300c4.jpg (deflated 4%)\n",
            "  adding: content/yolov5/runs/detect/exp/frame468_jpg.rf.9ac4543b4885235baa137abb0387ad90.jpg (deflated 4%)\n",
            "  adding: content/yolov5/runs/detect/exp/frame54_jpg.rf.cf3c1dad5106ac6433dd010bc6e523e9.jpg (deflated 4%)\n",
            "  adding: content/yolov5/runs/detect/exp/frame981_jpg.rf.51badd15cb77b5c8a0cec8d0185937d6.jpg (deflated 3%)\n",
            "  adding: content/yolov5/runs/detect/exp/frame794_jpg.rf.52fd22c6bd546dd2f79497fbe3e471f7.jpg (deflated 4%)\n",
            "  adding: content/yolov5/runs/detect/exp/frame69_jpg.rf.e78011c028914f155296d3b99dee7fcd.jpg (deflated 4%)\n",
            "  adding: content/yolov5/runs/detect/exp/frame442_jpg.rf.581f545c1618f2238438d1d3dbe36c66.jpg (deflated 4%)\n"
          ]
        }
      ]
    },
    {
      "cell_type": "code",
      "source": [
        "# !zip -r /content/yolov5/runs/detect\n",
        "#files.download('/content/yolov5_data.zip')\n",
        "# files.download('/content/yolov5/runs/detect.zip')"
      ],
      "metadata": {
        "colab": {
          "base_uri": "https://localhost:8080/",
          "height": 17
        },
        "id": "9zhmVxVtvddZ",
        "outputId": "e075be0f-9aff-4dd3-ceb4-16f0dadc7d05"
      },
      "execution_count": null,
      "outputs": [
        {
          "output_type": "display_data",
          "data": {
            "text/plain": [
              "<IPython.core.display.Javascript object>"
            ],
            "application/javascript": [
              "\n",
              "    async function download(id, filename, size) {\n",
              "      if (!google.colab.kernel.accessAllowed) {\n",
              "        return;\n",
              "      }\n",
              "      const div = document.createElement('div');\n",
              "      const label = document.createElement('label');\n",
              "      label.textContent = `Downloading \"${filename}\": `;\n",
              "      div.appendChild(label);\n",
              "      const progress = document.createElement('progress');\n",
              "      progress.max = size;\n",
              "      div.appendChild(progress);\n",
              "      document.body.appendChild(div);\n",
              "\n",
              "      const buffers = [];\n",
              "      let downloaded = 0;\n",
              "\n",
              "      const channel = await google.colab.kernel.comms.open(id);\n",
              "      // Send a message to notify the kernel that we're ready.\n",
              "      channel.send({})\n",
              "\n",
              "      for await (const message of channel.messages) {\n",
              "        // Send a message to notify the kernel that we're ready.\n",
              "        channel.send({})\n",
              "        if (message.buffers) {\n",
              "          for (const buffer of message.buffers) {\n",
              "            buffers.push(buffer);\n",
              "            downloaded += buffer.byteLength;\n",
              "            progress.value = downloaded;\n",
              "          }\n",
              "        }\n",
              "      }\n",
              "      const blob = new Blob(buffers, {type: 'application/binary'});\n",
              "      const a = document.createElement('a');\n",
              "      a.href = window.URL.createObjectURL(blob);\n",
              "      a.download = filename;\n",
              "      div.appendChild(a);\n",
              "      a.click();\n",
              "      div.remove();\n",
              "    }\n",
              "  "
            ]
          },
          "metadata": {}
        },
        {
          "output_type": "display_data",
          "data": {
            "text/plain": [
              "<IPython.core.display.Javascript object>"
            ],
            "application/javascript": [
              "download(\"download_512f6e95-07ce-4ecf-9ebb-581c7a6a8cc9\", \"detect.zip\", 2547458)"
            ]
          },
          "metadata": {}
        }
      ]
    },
    {
      "cell_type": "code",
      "source": [],
      "metadata": {
        "id": "Wicp_ofN3TSk"
      },
      "execution_count": null,
      "outputs": []
    }
  ]
}